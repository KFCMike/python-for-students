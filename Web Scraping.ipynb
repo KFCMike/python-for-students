{
 "cells": [
  {
   "cell_type": "markdown",
   "metadata": {},
   "source": [
    "# Web Scraping\n",
    "Today, we are going to walkthrough web scraping. Web scraping is a technique to extract data from internet page while there is no API available. Usually the extract is about to parse HTML from the server and extract relevant information through XPath query, regular expression or even machine learning.\n",
    "\n",
    "# Real Life Use Case\n",
    "Web scraping is a common technique which as the following application.\n",
    "\n",
    "## __A__. Price Monitoring\n",
    "\n",
    "E-commerce website uses to monitor competitors website to monitor product price in their websites to adjust the price accordingly.\n",
    "\n",
    "![Amazon PS4 Price](price_example.png)\n",
    "\n",
    "## __B__. Search Engine Indexing\n",
    "\n",
    "![Google Web Master](seo-google-webmaster-tools.jpg)\n",
    "\n",
    "Google develops __\"Google bot\"__ to crawl data from all kinds of website, indexes websites and calculate __\"Page Rank\"__ to give the best search result in its search engine.\n",
    "\n",
    "## __C__. Social Network / Forum Analysis\n",
    "\n",
    "![LIGHK](lighk.png)\n",
    "\n",
    "In order to understand the behavior of internet users, web scraping can be adopted to extract user information. Knowledges such as topic trends, interactions and top users can be discovered after scraping the data.\n",
    "\n",
    "## Libraries / Tools\n",
    "\n",
    "Today, we are going to go through the following libraries.\n",
    "\n",
    "1. requests\n",
    "2. beautiful soup\n",
    "3. scrapy\n",
    "\n",
    "We will be using \"Hong Kong Observatory\" website in today's tutorial.\n",
    "\n",
    "![weather](weather.png)"
   ]
  },
  {
   "cell_type": "markdown",
   "metadata": {},
   "source": [
    "# Downloading HTML\n",
    "\n",
    "The first step, of course is to download HTML source from the website. In here, we will use `requests` library. First, we import the library.\n"
   ]
  },
  {
   "cell_type": "code",
   "execution_count": 1,
   "metadata": {},
   "outputs": [],
   "source": [
    "import requests"
   ]
  },
  {
   "cell_type": "markdown",
   "metadata": {},
   "source": [
    "And the target URL is \"http://www.weather.gov.hk/contente.htm\"."
   ]
  },
  {
   "cell_type": "code",
   "execution_count": 20,
   "metadata": {},
   "outputs": [],
   "source": [
    "response = requests.get(\"http://www.hko.gov.hk/wxinfo/currwx/current.htm\")"
   ]
  },
  {
   "cell_type": "markdown",
   "metadata": {},
   "source": [
    "`get` means calling HTTP GET method to \"http://www.weather.gov.hk/contente.htm\". After the execution, you can find the HTML content from response.content."
   ]
  },
  {
   "cell_type": "code",
   "execution_count": 21,
   "metadata": {},
   "outputs": [
    {
     "data": {
      "text/plain": [
       "'<!DOCTYPE html>\\r\\n<HTML  lang=\"en\" >\\r\\n<HEAD>\\r\\n<TITLE>Local Weather Report</TITLE>\\r\\n<META http-equiv=\"Content-Type\" content=\"text/html; CHARSET=UTF-8\">\\r\\n<meta name=\"Comments\" content=\"WCAG2.0_Verified\" />\\r\\n<meta name=\"Description\" content=\"Current weather report of Hong Kong issued by the Hong Kong Observatory\" />\\r\\n<meta name=\"Keywords\" content=\"Current weather, Hong Kong Observatory, HKO\" />\\r\\n\\r\\n</HEAD>\\r\\n<BODY  >\\r\\n<script type=\"text/javascript\" src=\"/js/jquery/jquery-1.6.4.min.js\"></script>\\r\\n<script language=\"JavaScript\" src=\"/clf.js?20181105\"></script>\\r\\n<script language=\\'javascript\\' src=\"/JSMenu_MAIN.js\"></script>\\r\\n<script language=\\'javascript\\' src=\"/enJSMenu.js\"></script>\\r\\n<script language=\\'javascript\\' src=\\'/additionalMenu_EN.js\\'></script>\\r\\n<script language=\\'javascript\\' src=\\'/common/common_page_en_2018.js\\'></script>\\r\\n<LINK rel=stylesheet type=text/css href=\"/engimages/clf.css?20181026\">\\r\\n<LINK rel=\"SHORTCUT ICON\" href=\"/Logo.ico\">\\r\\n<LINK rel=stylesheet type=text/css href=\"/common/common_page_en_2018.css\">\\r\\n<DIV id=clf_wrapper>\\r\\n<DIV id=clf_header>\\r\\n<DIV class=\"header_info weather_bg\">\\r\\n<DIV id=lunar_date style=\"FLOAT: left; COLOR: #fff; PADDING-BOTTOM: 5px; PADDING-TOP: 5px; PADDING-LEFT: 5px; LINE-HEIGHT: 22px; PADDING-RIGHT: 5px\">\\r\\n<DIV id=dateTimeDisplay_en></DIV>\\r\\n<A title=\"Gregorian/Lunar Calendar\" href=\"/gts/time/conversion.htm\"><IMG style=\"VERTICAL-ALIGN: middle\" alt=\"Gregorian/Lunar Calendar\" src=\"/common/calendar_icon.png\"></A> </DIV>\\r\\n<DIV id=header_links style=\"FLOAT: right; PADDING-BOTTOM: 5px; PADDING-TOP: 5px; PADDING-LEFT: 5px; LINE-HEIGHT: 22px; PADDING-RIGHT: 5px\">\\r\\n<DIV id=setting>Settings</DIV>\\r\\n|\\r\\n<DIV id=mobie_version>Mobile</DIV>\\r\\n|\\r\\n<DIV id=uc_link>ç¹\\x81é«\\x94</DIV>\\r\\n|\\r\\n<DIV id=gb_link>ç®\\x80ä½\\x93</DIV>\\r\\n|\\r\\n<DIV id=search>Search</DIV>\\r\\n</DIV>\\r\\n</DIV>\\r\\n<DIV id=hko_logo></DIV>\\r\\n<DIV style=\"DISPLAY: none\"><td class=\"rtv_lang_text_only\" background=\"/engimages/bkgdtexture.gif\" align=\"left\" valign=\"bottom\"><a href=\"/textonly/v2/forecast/englishwx2.htm\" title='"
      ]
     },
     "execution_count": 21,
     "metadata": {},
     "output_type": "execute_result"
    }
   ],
   "source": [
    "response.text[0:2000]"
   ]
  },
  {
   "cell_type": "markdown",
   "metadata": {},
   "source": [
    "Too much text? Let's write into a file first."
   ]
  },
  {
   "cell_type": "code",
   "execution_count": 7,
   "metadata": {},
   "outputs": [],
   "source": [
    "with open('weather.html', 'w') as f:\n",
    "    f.write(response.text)"
   ]
  },
  {
   "cell_type": "markdown",
   "metadata": {},
   "source": [
    "In `weather.html`, you will eventually find the below HTML block,\n",
    "\n",
    "```html\n",
    "<div class=\"hkoweb_outer hkoweb_bg_f2\">\n",
    "\t<div class=\"hkoweb_title hkoweb_bg_f2\"></div>\n",
    "\t<div class=\"hkoweb_inner hkoweb_bg_default\">\n",
    "<a href=\"http://maps.weather.gov.hk/ocf/index_e.html\" target=\"_blank\"><img src=\"/img/arwf_banner_e.png\" border=\"0\" alt=\"Automatic Regional Weather Forecast in Hong Kong &amp; Pearl River Delta Region\" ></a>\n",
    "<p><a href=\"flw.htm\">Local Weather Forecast</a>&nbsp;|&nbsp;<a href=\"../frt/frt.htm\">Regional Temperature Forecast in HK</a><br>\n",
    "<a href=\"fnd.htm\">9-day Weather Forecast</a>&nbsp;|\n",
    "<a href=\"../uvindex/english/uvfcst.htm\">UV Index Forecast</a><br>\n",
    "<a href=\"ffish.htm\">Weather Information for South China Coastal Waters</a></p>\n",
    "<span style=\"font-style:italic\">Bulletin issued at 12:02 HKT 17/Apr/2018</span><br/>\n",
    "<br/>\n",
    "<div style=\"display:block; width: 470px;\">\n",
    "At noon at the Hong Kong Observatory the air temperature was 20 degrees Celsius and the relative humidity 82 per cent.<br/>\n",
    "During the past hour the mean UV Index recorded at King's Park was 2. The intensity of UV radiation was low.<br/>\n",
    "<br/>\n",
    "The air temperatures at other places were:<br/>\n",
    "<br/>\n",
    "```"
   ]
  },
  {
   "cell_type": "markdown",
   "metadata": {},
   "source": [
    "Now, you already succeed to grab the HTML source code, the next step is to parse the HTML file and retrieve the weather information."
   ]
  },
  {
   "cell_type": "markdown",
   "metadata": {},
   "source": [
    "# Beautiful Soup\n",
    "Now we are going to extract information from __\"hkoweb_outer hkoweb_bg_f2\"__ HTML node. First, we need to import `beautifulsoup`."
   ]
  },
  {
   "cell_type": "code",
   "execution_count": 10,
   "metadata": {},
   "outputs": [],
   "source": [
    "from bs4 import BeautifulSoup"
   ]
  },
  {
   "cell_type": "markdown",
   "metadata": {},
   "source": [
    "The next step is to use BeautifulSoup `response.content` to parse HTML content."
   ]
  },
  {
   "cell_type": "code",
   "execution_count": 22,
   "metadata": {},
   "outputs": [
    {
     "name": "stdout",
     "output_type": "stream",
     "text": [
      "Local Weather Report\n"
     ]
    }
   ],
   "source": [
    "soup = BeautifulSoup(response.content, 'html.parser')\n",
    "print(soup.title.string)"
   ]
  },
  {
   "cell_type": "markdown",
   "metadata": {},
   "source": [
    "We can parse the content and retrieve the title with two simple lines. Now let's try to get a `div` element by ID."
   ]
  },
  {
   "cell_type": "code",
   "execution_count": 23,
   "metadata": {},
   "outputs": [
    {
     "data": {
      "text/plain": [
       "<div class=\"hkoweb_outer hkoweb_bg_f2\">\n",
       "<div class=\"hkoweb_title hkoweb_bg_f2\"></div>\n",
       "<div class=\"hkoweb_inner hkoweb_bg_default\">\n",
       "<a href=\"http://maps.weather.gov.hk/ocf/index_e.html\" target=\"_blank\"><img alt=\"Automatic Regional Weather Forecast in Hong Kong &amp; Pearl River Delta Region\" border=\"0\" src=\"/img/arwf_banner_e.png\"/></a>\n",
       "<p><a href=\"flw.htm\">Local Weather Forecast</a> | <a href=\"../frt/frt.htm\">Regional Temperature Forecast in HK</a><br>\n",
       "<a href=\"fnd.htm\">9-day Weather Forecast</a> |\n",
       "<a href=\"../uvindex/english/uvfcst.htm\">UV Index Forecast</a><br>\n",
       "<a href=\"ffish.htm\">Weather Information for South China Coastal Waters</a></br></br></p>\n",
       "<span style=\"font-style:italic\">Bulletin issued at 12:02 HKT 17/Apr/2018</span><br/>\n",
       "<br/>\n",
       "<div style=\"display:block; width: 470px;\">\n",
       "At noon at the Hong Kong Observatory the air temperature was 20 degrees Celsius and the relative humidity 82 per cent.<br/>\n",
       "During the past hour the mean UV Index recorded at King's Park was 2. The intensity of UV radiation was low.<br/>\n",
       "<br/>\n",
       "The air temperatures at other places were:<br/>\n",
       "<br/>\n",
       "<span style=\"float:left; width:30ex; text-align:left\">King's Park</span>\n",
       "20 degrees;\n",
       "<br/>\n",
       "<span style=\"float:left; width:30ex; text-align:left\">Wong Chuk Hang</span>\n",
       "20 degrees;\n",
       "<br/>\n",
       "<span style=\"float:left; width:30ex; text-align:left\">Ta Kwu Ling</span>\n",
       "20 degrees;\n",
       "<br/>\n",
       "<span style=\"float:left; width:30ex; text-align:left\">Lau Fau Shan</span>\n",
       "19 degrees;\n",
       "<br/>\n",
       "<span style=\"float:left; width:30ex; text-align:left\">Tai Po</span>\n",
       "19 degrees;\n",
       "<br/>\n",
       "<span style=\"float:left; width:30ex; text-align:left\">Sha Tin</span>\n",
       "19 degrees;\n",
       "<br/>\n",
       "<span style=\"float:left; width:30ex; text-align:left\">Tuen Mun</span>\n",
       "20 degrees;\n",
       "<br/>\n",
       "<span style=\"float:left; width:30ex; text-align:left\">Tseung Kwan O</span>\n",
       "19 degrees;\n",
       "<br/>\n",
       "<span style=\"float:left; width:30ex; text-align:left\">Sai Kung</span>\n",
       "19 degrees;\n",
       "<br/>\n",
       "<span style=\"float:left; width:30ex; text-align:left\">Cheung Chau</span>\n",
       "19 degrees;\n",
       "<br/>\n",
       "<span style=\"float:left; width:30ex; text-align:left\">Chek Lap Kok</span>\n",
       "20 degrees;\n",
       "<br/>\n",
       "<span style=\"float:left; width:30ex; text-align:left\">Tsing Yi</span>\n",
       "20 degrees;\n",
       "<br/>\n",
       "<span style=\"float:left; width:30ex; text-align:left\">Shek Kong</span>\n",
       "20 degrees;\n",
       "<br/>\n",
       "<span style=\"float:left; width:30ex; text-align:left\">Tsuen Wan Ho Koon</span>\n",
       "18 degrees;\n",
       "<br/>\n",
       "<span style=\"float:left; width:30ex; text-align:left\">Tsuen Wan Shing Mun Valley</span>\n",
       "20 degrees;\n",
       "<br/>\n",
       "<span style=\"float:left; width:30ex; text-align:left\">Hong Kong Park</span>\n",
       "20 degrees;\n",
       "<br/>\n",
       "<span style=\"float:left; width:30ex; text-align:left\">Shau Kei Wan</span>\n",
       "19 degrees;\n",
       "<br/>\n",
       "<span style=\"float:left; width:30ex; text-align:left\">Kowloon City</span>\n",
       "20 degrees;\n",
       "<br/>\n",
       "<span style=\"float:left; width:30ex; text-align:left\">Happy Valley</span>\n",
       "20 degrees;\n",
       "<br/>\n",
       "<span style=\"float:left; width:30ex; text-align:left\">Wong Tai Sin</span>\n",
       "20 degrees;\n",
       "<br/>\n",
       "<span style=\"float:left; width:30ex; text-align:left\">Stanley</span>\n",
       "20 degrees;\n",
       "<br/>\n",
       "<span style=\"float:left; width:30ex; text-align:left\">Kwun Tong</span>\n",
       "19 degrees;\n",
       "<br/>\n",
       "<span style=\"float:left; width:30ex; text-align:left\">Sham Shui Po</span>\n",
       "19 degrees;\n",
       "<br/>\n",
       "<span style=\"float:left; width:30ex; text-align:left\">Kai Tak Runway Park</span>\n",
       "20 degrees;\n",
       "<br/>\n",
       "<span style=\"float:left; width:30ex; text-align:left\">Yuen Long Park</span>\n",
       "21 degrees;\n",
       "<br/>\n",
       "<span style=\"float:left; width:30ex; text-align:left\">Tai Mei Tuk</span>\n",
       "19 degrees.\n",
       "<br/>\n",
       "<br/>\n",
       "0.2 millimetre of rainfall was recorded at the Hong Kong Observatory between midnight last night and midday today.<br/><br/>\n",
       "</div>\n",
       "<br/>\n",
       "<table border=\"0\" width=\"100%\">\n",
       "<tr><td style=\"vertical-align:top\" width=\"8%\">\n",
       "Note:</td>\n",
       "<td style=\"vertical-align:top;\">The data above is provisional.  Only limited data validation has been carried out.</td>\n",
       "</tr></table>\n",
       "<br/><br/>\n",
       "<a href=\"/cgi-bin/hko/5dnor_e.pl?syr=2018&amp;smon=4&amp;sday=17\">Climatological Information for 17 Apr</a>\n",
       "<p>\n",
       "</p></div>\n",
       "</div>"
      ]
     },
     "execution_count": 23,
     "metadata": {},
     "output_type": "execute_result"
    }
   ],
   "source": [
    "weather_content_container = soup.find('div', {'class': 'hkoweb_outer hkoweb_bg_f2'})\n",
    "weather_content_container"
   ]
  },
  {
   "cell_type": "code",
   "execution_count": 24,
   "metadata": {},
   "outputs": [
    {
     "data": {
      "text/plain": [
       "\"\\n\\n\\n\\nLocal Weather Forecast\\xa0|\\xa0Regional Temperature Forecast in HK\\n9-day Weather Forecast\\xa0|\\r\\nUV Index Forecast\\nWeather Information for South China Coastal Waters\\nBulletin issued at 12:02 HKT 17/Apr/2018\\n\\n\\r\\nAt noon at the Hong Kong Observatory the air temperature was 20 degrees Celsius and the relative humidity 82 per cent.\\r\\nDuring the past hour the mean UV Index recorded at King's Park was 2. The intensity of UV radiation was low.\\n\\r\\nThe air temperatures at other places were:\\n\\nKing's Park\\r\\n20\\xa0degrees;\\n\\nWong Chuk Hang\\r\\n20\\xa0degrees;\\n\\nTa Kwu Ling\\r\\n20\\xa0degrees;\\n\\nLau Fau Shan\\r\\n19\\xa0degrees;\\n\\nTai Po\\r\\n19\\xa0degrees;\\n\\nSha Tin\\r\\n19\\xa0degrees;\\n\\nTuen Mun\\r\\n20\\xa0degrees;\\n\\nTseung Kwan O\\r\\n19\\xa0degrees;\\n\\nSai Kung\\r\\n19\\xa0degrees;\\n\\nCheung Chau\\r\\n19\\xa0degrees;\\n\\nChek Lap Kok\\r\\n20\\xa0degrees;\\n\\nTsing Yi\\r\\n20\\xa0degrees;\\n\\nShek Kong\\r\\n20\\xa0degrees;\\n\\nTsuen Wan Ho Koon\\r\\n18\\xa0degrees;\\n\\nTsuen Wan Shing Mun Valley\\r\\n20\\xa0degrees;\\n\\nHong Kong Park\\r\\n20\\xa0degrees;\\n\\nShau Kei Wan\\r\\n19\\xa0degrees;\\n\\nKowloon City\\r\\n20\\xa0degrees;\\n\\nHappy Valley\\r\\n20\\xa0degrees;\\n\\nWong Tai Sin\\r\\n20\\xa0degrees;\\n\\nStanley\\r\\n20\\xa0degrees;\\n\\nKwun Tong\\r\\n19\\xa0degrees;\\n\\nSham Shui Po\\r\\n19\\xa0degrees;\\n\\nKai Tak Runway Park\\r\\n20\\xa0degrees;\\n\\nYuen Long Park\\r\\n21\\xa0degrees;\\n\\nTai Mei Tuk\\r\\n19\\xa0degrees.\\n\\n\\r\\n0.2 millimetre of rainfall was recorded at the Hong Kong Observatory between midnight last night and midday today.\\n\\n\\n\\n\\r\\nNote:\\nThe data above is provisional.  Only limited data validation has been carried out.\\n\\n\\nClimatological Information for 17 Apr\\n\\n\\n\""
      ]
     },
     "execution_count": 24,
     "metadata": {},
     "output_type": "execute_result"
    }
   ],
   "source": [
    "weather_content_container.text"
   ]
  },
  {
   "cell_type": "markdown",
   "metadata": {},
   "source": [
    "What a mess... Let's split the string"
   ]
  },
  {
   "cell_type": "code",
   "execution_count": 30,
   "metadata": {},
   "outputs": [
    {
     "data": {
      "text/plain": [
       "['Local Weather Forecast\\xa0|\\xa0Regional Temperature Forecast in HK',\n",
       " '9-day Weather Forecast\\xa0|',\n",
       " 'UV Index Forecast',\n",
       " 'Weather Information for South China Coastal Waters',\n",
       " 'Bulletin issued at 12:02 HKT 17/Apr/2018',\n",
       " 'At noon at the Hong Kong Observatory the air temperature was 20 degrees Celsius and the relative humidity 82 per cent.',\n",
       " \"During the past hour the mean UV Index recorded at King's Park was 2. The intensity of UV radiation was low.\",\n",
       " 'The air temperatures at other places were:',\n",
       " \"King's Park\",\n",
       " '20\\xa0degrees;',\n",
       " 'Wong Chuk Hang',\n",
       " '20\\xa0degrees;',\n",
       " 'Ta Kwu Ling',\n",
       " '20\\xa0degrees;',\n",
       " 'Lau Fau Shan',\n",
       " '19\\xa0degrees;',\n",
       " 'Tai Po',\n",
       " '19\\xa0degrees;',\n",
       " 'Sha Tin',\n",
       " '19\\xa0degrees;',\n",
       " 'Tuen Mun',\n",
       " '20\\xa0degrees;',\n",
       " 'Tseung Kwan O',\n",
       " '19\\xa0degrees;',\n",
       " 'Sai Kung',\n",
       " '19\\xa0degrees;',\n",
       " 'Cheung Chau',\n",
       " '19\\xa0degrees;',\n",
       " 'Chek Lap Kok',\n",
       " '20\\xa0degrees;',\n",
       " 'Tsing Yi',\n",
       " '20\\xa0degrees;',\n",
       " 'Shek Kong',\n",
       " '20\\xa0degrees;',\n",
       " 'Tsuen Wan Ho Koon',\n",
       " '18\\xa0degrees;',\n",
       " 'Tsuen Wan Shing Mun Valley',\n",
       " '20\\xa0degrees;',\n",
       " 'Hong Kong Park',\n",
       " '20\\xa0degrees;',\n",
       " 'Shau Kei Wan',\n",
       " '19\\xa0degrees;',\n",
       " 'Kowloon City',\n",
       " '20\\xa0degrees;',\n",
       " 'Happy Valley',\n",
       " '20\\xa0degrees;',\n",
       " 'Wong Tai Sin',\n",
       " '20\\xa0degrees;',\n",
       " 'Stanley',\n",
       " '20\\xa0degrees;',\n",
       " 'Kwun Tong',\n",
       " '19\\xa0degrees;',\n",
       " 'Sham Shui Po',\n",
       " '19\\xa0degrees;',\n",
       " 'Kai Tak Runway Park',\n",
       " '20\\xa0degrees;',\n",
       " 'Yuen Long Park',\n",
       " '21\\xa0degrees;',\n",
       " 'Tai Mei Tuk',\n",
       " '19\\xa0degrees.',\n",
       " '0.2 millimetre of rainfall was recorded at the Hong Kong Observatory between midnight last night and midday today.',\n",
       " 'Note:',\n",
       " 'The data above is provisional.  Only limited data validation has been carried out.',\n",
       " 'Climatological Information for 17 Apr']"
      ]
     },
     "execution_count": 30,
     "metadata": {},
     "output_type": "execute_result"
    }
   ],
   "source": [
    "lines = weather_content_container.text.splitlines()\n",
    "lines = [line for line in lines if line != '']\n",
    "lines"
   ]
  },
  {
   "cell_type": "markdown",
   "metadata": {},
   "source": [
    "So now we are going to extract information from the 6th line."
   ]
  },
  {
   "cell_type": "code",
   "execution_count": 32,
   "metadata": {},
   "outputs": [
    {
     "name": "stdout",
     "output_type": "stream",
     "text": [
      "At noon at the Hong Kong Observatory the air temperature was 20 degrees Celsius and the relative humidity 82 per cent.\n"
     ]
    }
   ],
   "source": [
    "print(lines[5])"
   ]
  },
  {
   "cell_type": "markdown",
   "metadata": {},
   "source": [
    "Here, we are going to do string processing with regular expression. We first import `re` module and then use `re.match(pattern, string)`. `re.match` returns a match if there is any. You can call `m.group(x)` to get the bracket information."
   ]
  },
  {
   "cell_type": "code",
   "execution_count": 51,
   "metadata": {},
   "outputs": [
    {
     "name": "stdout",
     "output_type": "stream",
     "text": [
      "Temperature: 20 degree celusis, Humidity: 82%\n"
     ]
    }
   ],
   "source": [
    "import re\n",
    "temperature_line = lines[5]\n",
    "m = re.match(r'.*was (\\d+) degrees.*humidity (\\d+) per.*', temperature_line)\n",
    "temperature = int(m.group(1))\n",
    "humidity = int(m.group(2))\n",
    "print(\"Temperature: %d degree celusis, Humidity: %d%%\" % (temperature, humidity))"
   ]
  },
  {
   "cell_type": "markdown",
   "metadata": {},
   "source": [
    "# That's It! 👍\n",
    "We just did a simple weather web scraper under 20 lines of code! 👍"
   ]
  },
  {
   "cell_type": "markdown",
   "metadata": {},
   "source": [
    "# Scrapy\n",
    "\n"
   ]
  },
  {
   "cell_type": "markdown",
   "metadata": {},
   "source": [
    "# Example Spider"
   ]
  },
  {
   "cell_type": "markdown",
   "metadata": {},
   "source": [
    "# Output"
   ]
  },
  {
   "cell_type": "markdown",
   "metadata": {},
   "source": [
    "# Conclusion"
   ]
  }
 ],
 "metadata": {
  "kernelspec": {
   "display_name": "Python 3",
   "language": "python",
   "name": "python3"
  },
  "language_info": {
   "codemirror_mode": {
    "name": "ipython",
    "version": 3
   },
   "file_extension": ".py",
   "mimetype": "text/x-python",
   "name": "python",
   "nbconvert_exporter": "python",
   "pygments_lexer": "ipython3",
   "version": "3.6.3"
  }
 },
 "nbformat": 4,
 "nbformat_minor": 2
}
