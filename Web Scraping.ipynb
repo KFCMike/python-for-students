{
 "cells": [
  {
   "cell_type": "markdown",
   "metadata": {},
   "source": [
    "# Web Scraping\n",
    "Today, we are going to walkthrough web scraping. Web scraping is a technique to extract data from internet page while there is no API available. Usually the extract is about to parse HTML from the server and extract relevant information through XPath query, regular expression or even machine learning.\n",
    "\n",
    "# Real Life Use Case\n",
    "Web scraping is a common technique which as the following application.\n",
    "\n",
    "## __A__. Price Monitoring\n",
    "\n",
    "E-commerce website uses to monitor competitors website to monitor product price in their websites to adjust the price accordingly.\n",
    "\n",
    "![Amazon PS4 Price](price_example.png)\n",
    "\n",
    "## __B__. Search Engine Indexing\n",
    "\n",
    "![Google Web Master](seo-google-webmaster-tools.jpg)\n",
    "\n",
    "Google develops __\"Google bot\"__ to crawl data from all kinds of website, indexes websites and calculate __\"Page Rank\"__ to give the best search result in its search engine.\n",
    "\n",
    "## __C__. Social Network / Forum Analysis\n",
    "\n",
    "![LIGHK](lighk.png)\n",
    "\n",
    "In order to understand the behavior of internet users, web scraping can be adopted to extract user information. Knowledges such as topic trends, interactions and top users can be discovered after scraping the data.\n",
    "\n",
    "## Libraries / Tools\n",
    "\n",
    "Today, we are going to go through the following libraries.\n",
    "\n",
    "1. requests\n",
    "2. beautiful soup\n",
    "3. scrapy\n",
    "\n",
    "We will be using \"Hong Kong Observatory\" website in today's tutorial.\n",
    "\n",
    "![weather](weather.png)"
   ]
  },
  {
   "cell_type": "markdown",
   "metadata": {},
   "source": [
    "# Downloading HTML\n",
    "\n",
    "The first step, of course is to download HTML source from the website. In here, we will use `requests` library. First, we import the library.\n"
   ]
  },
  {
   "cell_type": "code",
   "execution_count": 1,
   "metadata": {},
   "outputs": [],
   "source": [
    "import requests"
   ]
  },
  {
   "cell_type": "markdown",
   "metadata": {},
   "source": [
    "And the target URL is \"http://www.weather.gov.hk/contente.htm\"."
   ]
  },
  {
   "cell_type": "code",
   "execution_count": 2,
   "metadata": {},
   "outputs": [],
   "source": [
    "response = requests.get(\"http://www.hko.gov.hk/wxinfo/currwx/current.htm\")"
   ]
  },
  {
   "cell_type": "markdown",
   "metadata": {},
   "source": [
    "`get` means calling HTTP GET method to \"http://www.weather.gov.hk/contente.htm\". After the execution, you can find the HTML content from response.content."
   ]
  },
  {
   "cell_type": "code",
   "execution_count": 3,
   "metadata": {},
   "outputs": [
    {
     "data": {
      "text/plain": [
       "'<!DOCTYPE html>\\r\\n<HTML  lang=\"en\" >\\r\\n<HEAD>\\r\\n<TITLE>Local Weather Report</TITLE>\\r\\n<META http-equiv=\"Content-Type\" content=\"text/html; CHARSET=UTF-8\">\\r\\n<meta name=\"Comments\" content=\"WCAG2.0_Verified\" />\\r\\n<meta name=\"Description\" content=\"Current weather report of Hong Kong issued by the Hong Kong Observatory\" />\\r\\n<meta name=\"Keywords\" content=\"Current weather, Hong Kong Observatory, HKO\" />\\r\\n\\r\\n</HEAD>\\r\\n<BODY  >\\r\\n<script type=\"text/javascript\" src=\"/js/jquery/jquery-1.6.4.min.js\"></script>\\r\\n<script language=\"JavaScript\" src=\"/clf.js?20181105\"></script>\\r\\n<script language=\\'javascript\\' src=\"/JSMenu_MAIN.js\"></script>\\r\\n<script language=\\'javascript\\' src=\"/enJSMenu.js\"></script>\\r\\n<script language=\\'javascript\\' src=\\'/additionalMenu_EN.js\\'></script>\\r\\n<script language=\\'javascript\\' src=\\'/common/common_page_en_2018.js\\'></script>\\r\\n<LINK rel=stylesheet type=text/css href=\"/engimages/clf.css?20181026\">\\r\\n<LINK rel=\"SHORTCUT ICON\" href=\"/Logo.ico\">\\r\\n<LINK rel=stylesheet type=text/css href=\"/common/common_page_en_2018.css\">\\r\\n<DIV id=clf_wrapper>\\r\\n<DIV id=clf_header>\\r\\n<DIV class=\"header_info weather_bg\">\\r\\n<DIV id=lunar_date style=\"FLOAT: left; COLOR: #fff; PADDING-BOTTOM: 5px; PADDING-TOP: 5px; PADDING-LEFT: 5px; LINE-HEIGHT: 22px; PADDING-RIGHT: 5px\">\\r\\n<DIV id=dateTimeDisplay_en></DIV>\\r\\n<A title=\"Gregorian/Lunar Calendar\" href=\"/gts/time/conversion.htm\"><IMG style=\"VERTICAL-ALIGN: middle\" alt=\"Gregorian/Lunar Calendar\" src=\"/common/calendar_icon.png\"></A> </DIV>\\r\\n<DIV id=header_links style=\"FLOAT: right; PADDING-BOTTOM: 5px; PADDING-TOP: 5px; PADDING-LEFT: 5px; LINE-HEIGHT: 22px; PADDING-RIGHT: 5px\">\\r\\n<DIV id=setting>Settings</DIV>\\r\\n|\\r\\n<DIV id=mobie_version>Mobile</DIV>\\r\\n|\\r\\n<DIV id=uc_link>ç¹\\x81é«\\x94</DIV>\\r\\n|\\r\\n<DIV id=gb_link>ç®\\x80ä½\\x93</DIV>\\r\\n|\\r\\n<DIV id=search>Search</DIV>\\r\\n</DIV>\\r\\n</DIV>\\r\\n<DIV id=hko_logo></DIV>\\r\\n<DIV style=\"DISPLAY: none\"><td class=\"rtv_lang_text_only\" background=\"/engimages/bkgdtexture.gif\" align=\"left\" valign=\"bottom\"><a href=\"/textonly/v2/forecast/englishwx2.htm\" title='"
      ]
     },
     "execution_count": 3,
     "metadata": {},
     "output_type": "execute_result"
    }
   ],
   "source": [
    "response.text[0:2000]"
   ]
  },
  {
   "cell_type": "markdown",
   "metadata": {},
   "source": [
    "Too much text? Let's write into a file first."
   ]
  },
  {
   "cell_type": "code",
   "execution_count": 4,
   "metadata": {},
   "outputs": [],
   "source": [
    "with open('weather.html', 'w') as f:\n",
    "    f.write(response.text)"
   ]
  },
  {
   "cell_type": "markdown",
   "metadata": {},
   "source": [
    "In `weather.html`, you will eventually find the below HTML block,\n",
    "\n",
    "```html\n",
    "<div class=\"hkoweb_outer hkoweb_bg_f2\">\n",
    "\t<div class=\"hkoweb_title hkoweb_bg_f2\"></div>\n",
    "\t<div class=\"hkoweb_inner hkoweb_bg_default\">\n",
    "<a href=\"http://maps.weather.gov.hk/ocf/index_e.html\" target=\"_blank\"><img src=\"/img/arwf_banner_e.png\" border=\"0\" alt=\"Automatic Regional Weather Forecast in Hong Kong &amp; Pearl River Delta Region\" ></a>\n",
    "<p><a href=\"flw.htm\">Local Weather Forecast</a>&nbsp;|&nbsp;<a href=\"../frt/frt.htm\">Regional Temperature Forecast in HK</a><br>\n",
    "<a href=\"fnd.htm\">9-day Weather Forecast</a>&nbsp;|\n",
    "<a href=\"../uvindex/english/uvfcst.htm\">UV Index Forecast</a><br>\n",
    "<a href=\"ffish.htm\">Weather Information for South China Coastal Waters</a></p>\n",
    "<span style=\"font-style:italic\">Bulletin issued at 12:02 HKT 17/Apr/2018</span><br/>\n",
    "<br/>\n",
    "<div style=\"display:block; width: 470px;\">\n",
    "At noon at the Hong Kong Observatory the air temperature was 20 degrees Celsius and the relative humidity 82 per cent.<br/>\n",
    "During the past hour the mean UV Index recorded at King's Park was 2. The intensity of UV radiation was low.<br/>\n",
    "<br/>\n",
    "The air temperatures at other places were:<br/>\n",
    "<br/>\n",
    "```"
   ]
  },
  {
   "cell_type": "markdown",
   "metadata": {},
   "source": [
    "Now, you already succeed to grab the HTML source code, the next step is to parse the HTML file and retrieve the weather information."
   ]
  },
  {
   "cell_type": "markdown",
   "metadata": {},
   "source": [
    "# Beautiful Soup\n",
    "Now we are going to extract information from __\"hkoweb_outer hkoweb_bg_f2\"__ HTML node. First, we need to import `beautifulsoup`."
   ]
  },
  {
   "cell_type": "code",
   "execution_count": 5,
   "metadata": {},
   "outputs": [],
   "source": [
    "from bs4 import BeautifulSoup"
   ]
  },
  {
   "cell_type": "markdown",
   "metadata": {},
   "source": [
    "The next step is to use BeautifulSoup `response.content` to parse HTML content."
   ]
  },
  {
   "cell_type": "code",
   "execution_count": 6,
   "metadata": {},
   "outputs": [
    {
     "name": "stdout",
     "output_type": "stream",
     "text": [
      "Local Weather Report\n"
     ]
    }
   ],
   "source": [
    "soup = BeautifulSoup(response.content, 'html.parser')\n",
    "print(soup.title.string)"
   ]
  },
  {
   "cell_type": "markdown",
   "metadata": {},
   "source": [
    "We can parse the content and retrieve the title with two simple lines. Now let's try to get a `div` element by ID."
   ]
  },
  {
   "cell_type": "code",
   "execution_count": 7,
   "metadata": {},
   "outputs": [
    {
     "data": {
      "text/plain": [
       "<div class=\"hkoweb_outer hkoweb_bg_f2\">\n",
       "<div class=\"hkoweb_title hkoweb_bg_f2\"></div>\n",
       "<div class=\"hkoweb_inner hkoweb_bg_default\">\n",
       "<a href=\"http://maps.weather.gov.hk/ocf/index_e.html\" target=\"_blank\"><img alt=\"Automatic Regional Weather Forecast in Hong Kong &amp; Pearl River Delta Region\" border=\"0\" src=\"/img/arwf_banner_e.png\"/></a>\n",
       "<p><a href=\"flw.htm\">Local Weather Forecast</a> | <a href=\"../frt/frt.htm\">Regional Temperature Forecast in HK</a><br>\n",
       "<a href=\"fnd.htm\">9-day Weather Forecast</a> |\n",
       "<a href=\"../uvindex/english/uvfcst.htm\">UV Index Forecast</a><br>\n",
       "<a href=\"ffish.htm\">Weather Information for South China Coastal Waters</a></br></br></p>\n",
       "<span style=\"font-style:italic\">Bulletin issued at 14:02 HKT 17/Apr/2018</span><br/>\n",
       "<br/>\n",
       "<div style=\"display:block; width: 470px;\">\n",
       "At 2 p.m. at the Hong Kong Observatory the air temperature was 22 degrees Celsius and the relative humidity 73 per cent.<br/>\n",
       "During the past hour the mean UV Index recorded at King's Park was 4. The intensity of UV radiation was moderate.<br/>\n",
       "<br/>\n",
       "The air temperatures at other places were:<br/>\n",
       "<br/>\n",
       "<span style=\"float:left; width:30ex; text-align:left\">King's Park</span>\n",
       "22 degrees;\n",
       "<br/>\n",
       "<span style=\"float:left; width:30ex; text-align:left\">Wong Chuk Hang</span>\n",
       "22 degrees;\n",
       "<br/>\n",
       "<span style=\"float:left; width:30ex; text-align:left\">Ta Kwu Ling</span>\n",
       "24 degrees;\n",
       "<br/>\n",
       "<span style=\"float:left; width:30ex; text-align:left\">Lau Fau Shan</span>\n",
       "22 degrees;\n",
       "<br/>\n",
       "<span style=\"float:left; width:30ex; text-align:left\">Tai Po</span>\n",
       "21 degrees;\n",
       "<br/>\n",
       "<span style=\"float:left; width:30ex; text-align:left\">Sha Tin</span>\n",
       "22 degrees;\n",
       "<br/>\n",
       "<span style=\"float:left; width:30ex; text-align:left\">Tuen Mun</span>\n",
       "23 degrees;\n",
       "<br/>\n",
       "<span style=\"float:left; width:30ex; text-align:left\">Tseung Kwan O</span>\n",
       "21 degrees;\n",
       "<br/>\n",
       "<span style=\"float:left; width:30ex; text-align:left\">Sai Kung</span>\n",
       "22 degrees;\n",
       "<br/>\n",
       "<span style=\"float:left; width:30ex; text-align:left\">Cheung Chau</span>\n",
       "21 degrees;\n",
       "<br/>\n",
       "<span style=\"float:left; width:30ex; text-align:left\">Chek Lap Kok</span>\n",
       "21 degrees;\n",
       "<br/>\n",
       "<span style=\"float:left; width:30ex; text-align:left\">Tsing Yi</span>\n",
       "22 degrees;\n",
       "<br/>\n",
       "<span style=\"float:left; width:30ex; text-align:left\">Shek Kong</span>\n",
       "24 degrees;\n",
       "<br/>\n",
       "<span style=\"float:left; width:30ex; text-align:left\">Tsuen Wan Ho Koon</span>\n",
       "21 degrees;\n",
       "<br/>\n",
       "<span style=\"float:left; width:30ex; text-align:left\">Tsuen Wan Shing Mun Valley</span>\n",
       "23 degrees;\n",
       "<br/>\n",
       "<span style=\"float:left; width:30ex; text-align:left\">Hong Kong Park</span>\n",
       "22 degrees;\n",
       "<br/>\n",
       "<span style=\"float:left; width:30ex; text-align:left\">Shau Kei Wan</span>\n",
       "21 degrees;\n",
       "<br/>\n",
       "<span style=\"float:left; width:30ex; text-align:left\">Kowloon City</span>\n",
       "22 degrees;\n",
       "<br/>\n",
       "<span style=\"float:left; width:30ex; text-align:left\">Happy Valley</span>\n",
       "22 degrees;\n",
       "<br/>\n",
       "<span style=\"float:left; width:30ex; text-align:left\">Wong Tai Sin</span>\n",
       "22 degrees;\n",
       "<br/>\n",
       "<span style=\"float:left; width:30ex; text-align:left\">Stanley</span>\n",
       "21 degrees;\n",
       "<br/>\n",
       "<span style=\"float:left; width:30ex; text-align:left\">Kwun Tong</span>\n",
       "22 degrees;\n",
       "<br/>\n",
       "<span style=\"float:left; width:30ex; text-align:left\">Sham Shui Po</span>\n",
       "23 degrees;\n",
       "<br/>\n",
       "<span style=\"float:left; width:30ex; text-align:left\">Kai Tak Runway Park</span>\n",
       "21 degrees;\n",
       "<br/>\n",
       "<span style=\"float:left; width:30ex; text-align:left\">Yuen Long Park</span>\n",
       "24 degrees;\n",
       "<br/>\n",
       "<span style=\"float:left; width:30ex; text-align:left\">Tai Mei Tuk</span>\n",
       "23 degrees.\n",
       "<br/>\n",
       "<br/>\n",
       "</div>\n",
       "<br/>\n",
       "<table border=\"0\" width=\"100%\">\n",
       "<tr><td style=\"vertical-align:top\" width=\"8%\">\n",
       "Note:</td>\n",
       "<td style=\"vertical-align:top;\">The data above is provisional.  Only limited data validation has been carried out.</td>\n",
       "</tr></table>\n",
       "<br/><br/>\n",
       "<a href=\"/cgi-bin/hko/5dnor_e.pl?syr=2018&amp;smon=4&amp;sday=17\">Climatological Information for 17 Apr</a>\n",
       "<p>\n",
       "</p></div>\n",
       "</div>"
      ]
     },
     "execution_count": 7,
     "metadata": {},
     "output_type": "execute_result"
    }
   ],
   "source": [
    "weather_content_container = soup.find('div', {'class': 'hkoweb_outer hkoweb_bg_f2'})\n",
    "weather_content_container"
   ]
  },
  {
   "cell_type": "code",
   "execution_count": 8,
   "metadata": {},
   "outputs": [
    {
     "data": {
      "text/plain": [
       "\"\\n\\n\\n\\nLocal Weather Forecast\\xa0|\\xa0Regional Temperature Forecast in HK\\n9-day Weather Forecast\\xa0|\\r\\nUV Index Forecast\\nWeather Information for South China Coastal Waters\\nBulletin issued at 14:02 HKT 17/Apr/2018\\n\\n\\r\\nAt 2 p.m. at the Hong Kong Observatory the air temperature was 22 degrees Celsius and the relative humidity 73 per cent.\\r\\nDuring the past hour the mean UV Index recorded at King's Park was 4. The intensity of UV radiation was moderate.\\n\\r\\nThe air temperatures at other places were:\\n\\nKing's Park\\r\\n22\\xa0degrees;\\n\\nWong Chuk Hang\\r\\n22\\xa0degrees;\\n\\nTa Kwu Ling\\r\\n24\\xa0degrees;\\n\\nLau Fau Shan\\r\\n22\\xa0degrees;\\n\\nTai Po\\r\\n21\\xa0degrees;\\n\\nSha Tin\\r\\n22\\xa0degrees;\\n\\nTuen Mun\\r\\n23\\xa0degrees;\\n\\nTseung Kwan O\\r\\n21\\xa0degrees;\\n\\nSai Kung\\r\\n22\\xa0degrees;\\n\\nCheung Chau\\r\\n21\\xa0degrees;\\n\\nChek Lap Kok\\r\\n21\\xa0degrees;\\n\\nTsing Yi\\r\\n22\\xa0degrees;\\n\\nShek Kong\\r\\n24\\xa0degrees;\\n\\nTsuen Wan Ho Koon\\r\\n21\\xa0degrees;\\n\\nTsuen Wan Shing Mun Valley\\r\\n23\\xa0degrees;\\n\\nHong Kong Park\\r\\n22\\xa0degrees;\\n\\nShau Kei Wan\\r\\n21\\xa0degrees;\\n\\nKowloon City\\r\\n22\\xa0degrees;\\n\\nHappy Valley\\r\\n22\\xa0degrees;\\n\\nWong Tai Sin\\r\\n22\\xa0degrees;\\n\\nStanley\\r\\n21\\xa0degrees;\\n\\nKwun Tong\\r\\n22\\xa0degrees;\\n\\nSham Shui Po\\r\\n23\\xa0degrees;\\n\\nKai Tak Runway Park\\r\\n21\\xa0degrees;\\n\\nYuen Long Park\\r\\n24\\xa0degrees;\\n\\nTai Mei Tuk\\r\\n23\\xa0degrees.\\n\\n\\n\\n\\n\\n\\r\\nNote:\\nThe data above is provisional.  Only limited data validation has been carried out.\\n\\n\\nClimatological Information for 17 Apr\\n\\n\\n\""
      ]
     },
     "execution_count": 8,
     "metadata": {},
     "output_type": "execute_result"
    }
   ],
   "source": [
    "weather_content_container.text"
   ]
  },
  {
   "cell_type": "markdown",
   "metadata": {},
   "source": [
    "What a mess... Let's split the string"
   ]
  },
  {
   "cell_type": "code",
   "execution_count": 9,
   "metadata": {},
   "outputs": [
    {
     "data": {
      "text/plain": [
       "['Local Weather Forecast\\xa0|\\xa0Regional Temperature Forecast in HK',\n",
       " '9-day Weather Forecast\\xa0|',\n",
       " 'UV Index Forecast',\n",
       " 'Weather Information for South China Coastal Waters',\n",
       " 'Bulletin issued at 14:02 HKT 17/Apr/2018',\n",
       " 'At 2 p.m. at the Hong Kong Observatory the air temperature was 22 degrees Celsius and the relative humidity 73 per cent.',\n",
       " \"During the past hour the mean UV Index recorded at King's Park was 4. The intensity of UV radiation was moderate.\",\n",
       " 'The air temperatures at other places were:',\n",
       " \"King's Park\",\n",
       " '22\\xa0degrees;',\n",
       " 'Wong Chuk Hang',\n",
       " '22\\xa0degrees;',\n",
       " 'Ta Kwu Ling',\n",
       " '24\\xa0degrees;',\n",
       " 'Lau Fau Shan',\n",
       " '22\\xa0degrees;',\n",
       " 'Tai Po',\n",
       " '21\\xa0degrees;',\n",
       " 'Sha Tin',\n",
       " '22\\xa0degrees;',\n",
       " 'Tuen Mun',\n",
       " '23\\xa0degrees;',\n",
       " 'Tseung Kwan O',\n",
       " '21\\xa0degrees;',\n",
       " 'Sai Kung',\n",
       " '22\\xa0degrees;',\n",
       " 'Cheung Chau',\n",
       " '21\\xa0degrees;',\n",
       " 'Chek Lap Kok',\n",
       " '21\\xa0degrees;',\n",
       " 'Tsing Yi',\n",
       " '22\\xa0degrees;',\n",
       " 'Shek Kong',\n",
       " '24\\xa0degrees;',\n",
       " 'Tsuen Wan Ho Koon',\n",
       " '21\\xa0degrees;',\n",
       " 'Tsuen Wan Shing Mun Valley',\n",
       " '23\\xa0degrees;',\n",
       " 'Hong Kong Park',\n",
       " '22\\xa0degrees;',\n",
       " 'Shau Kei Wan',\n",
       " '21\\xa0degrees;',\n",
       " 'Kowloon City',\n",
       " '22\\xa0degrees;',\n",
       " 'Happy Valley',\n",
       " '22\\xa0degrees;',\n",
       " 'Wong Tai Sin',\n",
       " '22\\xa0degrees;',\n",
       " 'Stanley',\n",
       " '21\\xa0degrees;',\n",
       " 'Kwun Tong',\n",
       " '22\\xa0degrees;',\n",
       " 'Sham Shui Po',\n",
       " '23\\xa0degrees;',\n",
       " 'Kai Tak Runway Park',\n",
       " '21\\xa0degrees;',\n",
       " 'Yuen Long Park',\n",
       " '24\\xa0degrees;',\n",
       " 'Tai Mei Tuk',\n",
       " '23\\xa0degrees.',\n",
       " 'Note:',\n",
       " 'The data above is provisional.  Only limited data validation has been carried out.',\n",
       " 'Climatological Information for 17 Apr']"
      ]
     },
     "execution_count": 9,
     "metadata": {},
     "output_type": "execute_result"
    }
   ],
   "source": [
    "lines = weather_content_container.text.splitlines()\n",
    "lines = [line for line in lines if line != '']\n",
    "lines"
   ]
  },
  {
   "cell_type": "markdown",
   "metadata": {},
   "source": [
    "So now we are going to extract information from the 6th line."
   ]
  },
  {
   "cell_type": "code",
   "execution_count": 10,
   "metadata": {},
   "outputs": [
    {
     "name": "stdout",
     "output_type": "stream",
     "text": [
      "At 2 p.m. at the Hong Kong Observatory the air temperature was 22 degrees Celsius and the relative humidity 73 per cent.\n"
     ]
    }
   ],
   "source": [
    "print(lines[5])"
   ]
  },
  {
   "cell_type": "markdown",
   "metadata": {},
   "source": [
    "Here, we are going to do string processing with regular expression. We first import `re` module and then use `re.match(pattern, string)`. `re.match` returns a match if there is any. You can call `m.group(x)` to get the bracket information."
   ]
  },
  {
   "cell_type": "code",
   "execution_count": 11,
   "metadata": {},
   "outputs": [
    {
     "name": "stdout",
     "output_type": "stream",
     "text": [
      "Temperature: 22 degree celusis, Humidity: 73%\n"
     ]
    }
   ],
   "source": [
    "import re\n",
    "temperature_line = lines[5]\n",
    "m = re.match(r'.*was (\\d+) degrees.*humidity (\\d+) per.*', temperature_line)\n",
    "temperature = int(m.group(1))\n",
    "humidity = int(m.group(2))\n",
    "print(\"Temperature: %d degree celusis, Humidity: %d%%\" % (temperature, humidity))"
   ]
  },
  {
   "cell_type": "markdown",
   "metadata": {},
   "source": [
    "# That's It! 👍\n",
    "We just did a simple weather web scraper under 20 lines of code! 👍"
   ]
  },
  {
   "cell_type": "markdown",
   "metadata": {},
   "source": [
    "# Scrapy\n",
    "\n",
    "![Scrapy](https://scrapy.org/img/scrapylogo.png)\n",
    "Scrapy is a very famous web scraping library which helps you develop complicated web scraping program fast.\n",
    "\n",
    "_Scrapy is an application framework for crawling web sites and extracting structured data which can be used for a wide range of useful applications, like data mining, information processing or historical archival._\n",
    "\n",
    "_Even though Scrapy was originally designed for web scraping, it can also be used to extract data using APIs (such as Amazon Associates Web Services) or as a general purpose web crawler._\n",
    "\n",
    "From [Scrapy Overview](https://docs.scrapy.org/en/latest/intro/overview.html)\n"
   ]
  },
  {
   "cell_type": "markdown",
   "metadata": {},
   "source": [
    "# Example Spider"
   ]
  },
  {
   "cell_type": "code",
   "execution_count": 34,
   "metadata": {},
   "outputs": [
    {
     "name": "stdout",
     "output_type": "stream",
     "text": [
      "香港電台網站\n",
      "http://news.rthk.hk/rthk/ch/component/k2/1391618-20180417.htm\n",
      "http://news.rthk.hk/rthk/ch/component/k2/1391617-20180417.htm\n",
      "http://news.rthk.hk/rthk/ch/component/k2/1391614-20180417.htm\n",
      "http://news.rthk.hk/rthk/ch/component/k2/1391613-20180417.htm\n",
      "http://news.rthk.hk/rthk/ch/component/k2/1391612-20180417.htm\n",
      "http://news.rthk.hk/rthk/ch/component/k2/1391611-20180417.htm\n",
      "http://news.rthk.hk/rthk/ch/component/k2/1391609-20180417.htm\n",
      "http://news.rthk.hk/rthk/ch/component/k2/1391608-20180417.htm\n",
      "====================================================================================================\n",
      "美國制裁中興通訊　分析料或阻礙中國5G通訊市場發展 - RTHK\n",
      "\n",
      "\t\t\t美國商務部禁止美國企業未來7年向中興通訊出售零部件，因為中興通訊違反制裁條款，以及多次作出虛假陳述。\n",
      "\n",
      "中興通訊被指向伊朗與北韓出售通訊設備，違反美國制裁禁令，去年3月與美國政府達成和解，支付近12億美元的罰款，當中3億美元罰款暫緩。美國商務部指，中興通訊未有執行和解協議，並且做出虛假陳述，誤導商務部，不但未有懲處相關員工，反而給予獎勵。\n",
      "\n",
      "中興通訊A、H股今日起停牌，正評估美國出口禁令的潛在影響，並與各方溝通。中國商務部指，密切關注事件進展，隨時準備採取必要措施，維護中國企業合法權益。\n",
      "\n",
      "市場預料，中興通訊生產設備中，有25-30%的零部件由美國企業提供，有關做法等同切斷中興的產品供應鏈。騰祺基金管理投資管理董事沈慶洪表示，事件令人認為美國有意抗衡中國科技崛起，有機會加劇兩國緊張關係。他又說，中興在中國電訊設備市佔率達30%，如果生產受阻，或阻礙中國5G通訊市場發展，影響深遠。\t\t\n",
      "====================================================================================================\n",
      "====================================================================================================\n",
      "陳淑莊歡迎政府公布「上網電價」水平 - RTHK\n",
      "\n",
      "\t\t\t立法會環境事務委員會主席、公民黨的陳淑莊歡迎政府公布「上網電價」的水平，她說，雖然兩電的收購價較現行電價高幾倍，但相信對電費的影響不大。\n",
      "\n",
      "她指出，可能有市民憂慮，上網電價計劃可能令無使用可再生能源的用戶電費增加，但她表示，本港只有約不足0.1%的電力來自可再生能源，因此她估計，即使使用可再生能源的用戶增加，對香港整體電價的影響非常低。\n",
      "\n",
      "陳淑莊又希望，政府統籌不同部門，提供一站式資訊，讓有意安裝可再生能源發電設施的市民參考。\t\t\n",
      "====================================================================================================\n",
      "====================================================================================================\n",
      "台股跌至個半月低位 - RTHK\n",
      "\n",
      "\t\t\t台灣股市收市跌至近1個半月低位，市場擔心外資持續流出，加上大陸解放軍明日會在台灣海峽進行實彈訓練。\n",
      "\n",
      "加權指數輕微高開後反覆下跌，最多跌155點，收市跌144點，跌幅1.32%，收報10810點。\t\t\n",
      "====================================================================================================\n",
      "====================================================================================================\n",
      "梁天琦自辯稱旺角騷動當晚才獲邀前往聲援 - RTHK\n",
      "\n",
      "\t\t\t2016年旺角騷亂案，本土民主前線前發言人梁天琦被控一項煽惑暴動罪及兩項暴動罪，案中另外4名被告涉嫌參與暴動及非法集結等罪。案件今日在高等法院繼續審訊。\n",
      "\n",
      "梁天琦在庭上自辯時表示，事發當晚，在砵蘭街行人路看到一輛的士停在路上，發生交通意外，其後愈來愈多人聚集，並看到一班警員從山東街向的士方向推進，有警員手持警告旗幟。他說，根據過往示威經驗，感到警員想驅趕在場市民，當時氣氛緊張。\n",
      "\n",
      "他又說，現場有市民要求警方離開及不要驅趕小販，當時黃台仰亦有呼籲現場人士離開，讓警員處理交通意外。他形容，黃台仰的呼籲是恰當，認為盡快處理交通意外，可紓緩緊張氣氛。但他指出，當時未有人聆聽黃台仰的呼籲。\n",
      "\n",
      "他又指出，在前年農曆新年前，本民前無決定會否到旺角聲援小販，直至年初一晚上才知道成員決定前往聲援，並應成員的邀請，在當日晚上9時半到旺角。\t\t\n",
      "====================================================================================================\n",
      "====================================================================================================\n",
      "吳國強冀「先聘用、後培訓」計劃今年推展至零售業　 - RTHK\n",
      "\n",
      "\t\t\t僱員再培訓局行政總監吳國強表示，過去3個年度在安老服務業加推「先聘用、後培訓」的試點計劃，超過150人入職。他又說，過往已嘗試在酒店和清潔行業推行「先聘用、後培訓」計劃，今年亦期望推展至零售行業。\n",
      "\n",
      "另外，有參加護理員基礎證書課程的學員表示，現時正在一間社區服務處擔任家居照顧服務員。她說，課程令她知道擔任護理員的知識，包括扶抱和如何與使用者溝通等，現時工作上可利用學習得到的知識，陪長者覆診、接送智障學童上學或到工場，以及替有需要人士在家居洗澡等。\t\t\n",
      "====================================================================================================\n",
      "====================================================================================================\n",
      "港股下午初段窄幅上升 - RTHK\n",
      "\n",
      "\t\t\t港股下午初段窄幅上升。\n",
      "\n",
      "恒指較早時報30326點，升11點，升幅0.04%。\t\t\n",
      "====================================================================================================\n",
      "====================================================================================================\n",
      "世界自然基金會歡迎上網電價水平　建議成立種子基金 - RTHK\n",
      "\n",
      "\t\t\t世界自然基金會香港分會助理項目經理杜珮煒歡迎政府將「上網電價」訂於3至5元的水平，認為訂價積極進取，反映當局與兩電有決心發展屋頂式發電系統。\n",
      "\n",
      "杜珮煒指出，一般村屋天台約70平方米，如鋪滿太陽能發電板，預料發電量為6至8千瓦，即屬於低於10千瓦的小型發電系統，如果以5元的收購水平，預料可於大約8年回本。\n",
      "\n",
      "不過，杜珮煒認為，政府或兩電應公布來年可再生能源發電的預期目標，以預留資金給上網電價計劃，否則在進取的收購價下，會導致發電成本增加，或會轉嫁給消費者。\n",
      "\n",
      "杜珮煒又指出，現時全港擁有天台的住戶約為18萬戶，加上太陽能發電系統價格不低，約8萬至9萬元，因此未必人人可參與計劃。她建議政府與兩電成立一個可再生能源的種子基金，讓市民參與投資並獲得回報。\n",
      "\n",
      "對於電力公司將會出售「可再生能源證書」，以補貼回購可再生能源的成本，杜珮煒希望，證書的價格訂於合理水平，以緩衝電費成本的壓力。她指不少大型企業、銀行等都對可再生能源有興趣，對證書的反應持樂觀態度。\t\t\n",
      "====================================================================================================\n",
      "====================================================================================================\n",
      "陸頌雄歡迎「上網電價」計劃惟仍有優化空間 - RTHK\n",
      "\n",
      "\t\t\t工聯會立法會議員陸頌雄歡迎「上網電價」計劃，認為以民間產電方式售電予兩間電力公司，鼓勵可再生能源發展的做法值得支持，但他認為，計劃仍有優化空間。\n",
      "\n",
      "陸頌雄指出，小型發電系統的每度電為5元，中型或較大型的發電系統每度電為4元及3元，他認為如果中型以上的發電系統劃一為4元的誘因較大，否則會令人質疑，投資愈大的發電系統，每度電的收購價越低。\n",
      "\n",
      "另外，新一份《管制計劃協議》將要求兩電以頻密調整燃料價格條款收費，陸頌雄認為，如果兩電仍每次估錯數，同樣會收多用戶電費，因此建議為燃料帳設上限，令兩電的燃料帳結餘不會過多。\t\t\n",
      "====================================================================================================\n"
     ]
    }
   ],
   "source": [
    "! python spider.py"
   ]
  },
  {
   "cell_type": "markdown",
   "metadata": {},
   "source": [
    "# Conclusion"
   ]
  },
  {
   "cell_type": "markdown",
   "metadata": {},
   "source": [
    "Though web scraping is a common and powerful technique in data extraction, please aware of crawler usage and try not to send too many requests to target server. Otherwise, your spider will be considered as an **attack program**!"
   ]
  }
 ],
 "metadata": {
  "kernelspec": {
   "display_name": "Python 3",
   "language": "python",
   "name": "python3"
  },
  "language_info": {
   "codemirror_mode": {
    "name": "ipython",
    "version": 3
   },
   "file_extension": ".py",
   "mimetype": "text/x-python",
   "name": "python",
   "nbconvert_exporter": "python",
   "pygments_lexer": "ipython3",
   "version": "3.6.3"
  }
 },
 "nbformat": 4,
 "nbformat_minor": 2
}
